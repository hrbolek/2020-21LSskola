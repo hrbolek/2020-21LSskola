{
  "nbformat": 4,
  "nbformat_minor": 0,
  "metadata": {
    "kernelspec": {
      "display_name": "Python 3",
      "language": "python",
      "name": "python3"
    },
    "language_info": {
      "codemirror_mode": {
        "name": "ipython",
        "version": 3
      },
      "file_extension": ".py",
      "mimetype": "text/x-python",
      "name": "python",
      "nbconvert_exporter": "python",
      "pygments_lexer": "ipython3",
      "version": "3.8.5"
    },
    "colab": {
      "name": "01_intro.ipynb",
      "provenance": [],
      "toc_visible": true,
      "include_colab_link": true
    }
  },
  "cells": [
    {
      "cell_type": "markdown",
      "metadata": {
        "id": "view-in-github",
        "colab_type": "text"
      },
      "source": [
        "<a href=\"https://colab.research.google.com/github/hrbolek/2020-21LSskola/blob/master/01_intro.ipynb\" target=\"_parent\"><img src=\"https://colab.research.google.com/assets/colab-badge.svg\" alt=\"Open In Colab\"/></a>"
      ]
    },
    {
      "cell_type": "markdown",
      "metadata": {
        "id": "AaO91qs9r-Ow"
      },
      "source": [
        "# Úvodní hodina"
      ]
    },
    {
      "cell_type": "markdown",
      "metadata": {
        "id": "_OoldAuZr-O7"
      },
      "source": [
        "Cílem předmětu je poskytnou vám v některých oblastech jen přehledovou informaci, zatímco v jiných půjdeme do hloubky. Pokud jste nadšenci do tvorby informačních systémů či webových aplikací, je možné, že již dávno jste si některými částmi předmětu prošli, že jste shlédli desítky hodin videí na youtube jako je např. \n",
        "\n",
        "> **Doporučené video**\n",
        "> \n",
        "> [Data Analysis with Python Course - Numpy, Pandas, Data Visualization 10h](https://www.youtube.com/watch?v=GPVsHOlRBBI)\n",
        "\n",
        "Podotýkám, že velmi často se jedná o vysoce kvalitní videa, někdy i natočená v rámci konferenčních vystoupení. V rámci textů naleznete celou řadu odkazů na taková videa a dokonce u některých z nich po vás vyžaduji, abyste je shlédli.\n"
      ]
    },
    {
      "cell_type": "markdown",
      "metadata": {
        "id": "VVUiEHEIr-O9"
      },
      "source": [
        "## Struktura semestru"
      ]
    },
    {
      "cell_type": "markdown",
      "metadata": {
        "id": "NQhkCVOwr-O_"
      },
      "source": [
        "Následující odrážky specifikují (ne nutně ve správném pořadí), s čím se v semestru setkáte.\n",
        "\n",
        "- Úvodní shrnutí\n",
        "    - Intro do WEB development\n",
        "    - Intro do virtualizace\n",
        "    - Intro do správy projektu\n",
        "    \n",
        "- Datové struktury\n",
        "    - Elementární datové struktury\n",
        "        - Znak\n",
        "        - Číslo (IEEE 754)\n",
        "        - Bool\n",
        "    - Komplexní datové struktury\n",
        "        - List (Python)\n",
        "        - Dict (Python)\n",
        "        - Tree\n",
        "        - Graph\n",
        "    - Principiální algoritmy pro práci s datovými strukturami\n",
        "        - Třídění\n",
        "        - Vyhledávání \n",
        "        - Výpočetní složitost\n",
        "    \n",
        "- Úkládání dat\n",
        "    - Homogenní datové struktury\n",
        "    - Heterogenní datové struktury\n",
        "    - Operace nad datovými strukturami\n",
        "        - Filter\n",
        "        - Map\n",
        "        - Reduce\n",
        "    - SQL (SQLAlchemy Python)\n",
        "    - GraphQL (Graphene Python)\n",
        "\n",
        "- Získávání dat\n",
        "    - Zdroje s API\n",
        "        - OData\n",
        "        - REST\n",
        "        - SWAGGER\n",
        "        - další standardy\n",
        "    - Zdroje bez API\n",
        "    - Textové zdroje\n",
        "\n",
        "- Analýza a vizualizace dat \n",
        "    - Nástroje pro platformu Python\n",
        "    - Pandas\n",
        "    - Matplotlib\n",
        "    - Další nástroje (numpy, scikit, ...)\n",
        "\n",
        "\n"
      ]
    },
    {
      "cell_type": "markdown",
      "metadata": {
        "id": "B0gBP-_cDI-u"
      },
      "source": [
        "## Úvodní shrnutí"
      ]
    },
    {
      "cell_type": "markdown",
      "metadata": {
        "id": "JkeSK0NHDVMm"
      },
      "source": [
        "### Intro do WEB development"
      ]
    },
    {
      "cell_type": "markdown",
      "metadata": {
        "id": "J1wCj5sbDdw_"
      },
      "source": [
        "Připomeňte si vybrané pojmy:\n",
        "\n",
        "- PostgreSQL\n",
        "- React\n",
        "- API\n",
        "\n",
        "\n",
        "Připomeňte si strukturu webové aplikace:\n",
        "\n",
        "- Frontend\n",
        "- Backend\n",
        "- Servers"
      ]
    },
    {
      "cell_type": "markdown",
      "metadata": {
        "id": "h5SF6N6MERWH"
      },
      "source": [
        "### Intro do virtualizace"
      ]
    },
    {
      "cell_type": "markdown",
      "metadata": {
        "id": "5yY9Sq_IEUAs"
      },
      "source": [
        "Docker, Dockerfile (vnitřní struktura)\n",
        "\n",
        "docker-compose"
      ]
    },
    {
      "cell_type": "markdown",
      "metadata": {
        "id": "xTSu_81JEcnO"
      },
      "source": [
        "### Intro do správy projektu"
      ]
    },
    {
      "cell_type": "markdown",
      "metadata": {
        "id": "ElTcrTCtEfbk"
      },
      "source": [
        "GIT, GIT, GIT, GITHub :)\n",
        "\n"
      ]
    }
  ]
}